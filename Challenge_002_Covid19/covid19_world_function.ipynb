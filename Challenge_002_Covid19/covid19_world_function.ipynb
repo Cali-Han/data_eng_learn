{
 "cells": [
  {
   "cell_type": "code",
   "execution_count": null,
   "metadata": {},
   "outputs": [],
   "source": []
  },
  {
   "cell_type": "code",
   "execution_count": null,
   "metadata": {},
   "outputs": [],
   "source": []
  },
  {
   "cell_type": "code",
   "execution_count": 1,
   "metadata": {},
   "outputs": [],
   "source": [
    "\n",
    "# 국가별 데이터 프레임을 만들어주는 함수\n",
    "def location_value(location) : \n",
    "    loc = covid[covid['location'] == location]\n",
    "    return loc\n",
    "\n",
    "\n",
    "# 국가별 시간에 따른 총 사망자/확진자 , 신규 사망자/확진자 그래프를 그려주는 함수\n",
    "def draw_loc_value(loc) : \n",
    "    loc_arr = np.array(loc)\n",
    "    # 총 확진자 그래프\n",
    "    loc_tot_case_x = [dt.datetime.strptime(row[1], '%Y-%m-%d').date() for \n",
    "       row in loc_arr] \n",
    "    loc_tot_case_y = [row[2] for row in loc_arr] \n",
    "    # 신규 확진자 그래프\n",
    "    loc_new_case_x = [dt.datetime.strptime(row[1], '%Y-%m-%d').date() for \n",
    "       row in loc_arr]\n",
    "    loc_new_case_y = [row[3] for row in loc_arr] \n",
    "    # 총 사망자 그래프\n",
    "    loc_tot_death_x = [dt.datetime.strptime(row[1], '%Y-%m-%d').date() for \n",
    "       row in loc_arr]\n",
    "    loc_tot_death_y = [row[4] for row in loc_arr] \n",
    "    # 신규 사망자 그래프\n",
    "    loc_new_death_x = [dt.datetime.strptime(row[1], '%Y-%m-%d').date() for \n",
    "       row in loc_arr]\n",
    "    loc_new_death_y = [row[5] for row in loc_arr] \n",
    "    \n",
    "    # 그리기\n",
    "    plt.figure(figsize=(20, 20))\n",
    "    # 총 확진자\n",
    "    plt.subplot(411)\n",
    "    plt.title('총 확진자', size=30)\n",
    "    plt.plot(loc_tot_case_x,loc_tot_case_y, color='red')\n",
    "\n",
    "    # 신규 확진자\n",
    "    plt.subplot(412)\n",
    "    plt.title('신규 확진자', size=30)\n",
    "    plt.plot(loc_new_case_x,loc_new_case_y, color='blue')\n",
    "    # 총 사망자\n",
    "    plt.subplot(413)\n",
    "    plt.title('총 사망자', size=30)\n",
    "    plt.plot(loc_tot_death_x,loc_tot_death_y, color='black')\n",
    "    # 신규 사망자\n",
    "    plt.subplot(414)\n",
    "    plt.title('신규 사망자', size=30)\n",
    "    plt.plot(loc_new_death_x,loc_new_death_y, color='green')\n",
    "    \n",
    "    plt.tight_layout() # 레이아웃의 간격을 잡아주는 함수"
   ]
  },
  {
   "cell_type": "code",
   "execution_count": null,
   "metadata": {},
   "outputs": [],
   "source": [
    "# 날짜와 나머지 두개의 값을 갖는 데이터프레임을 받아\n",
    "# 날짜에 따라 두 데이터를 비교해주는 함수\n",
    "def value_compare(var) :\n",
    "    var_arr = np.array(var)\n",
    "    # 첫번째 값\n",
    "    var1_x = [dt.datetime.strptime(row[0], '%Y-%m-%d').date() for \n",
    "       row in var_arr] \n",
    "    var1_y = [row[1] for row in var_arr] \n",
    "    # 두번째 값\n",
    "    var2_x = [dt.datetime.strptime(row[0], '%Y-%m-%d').date() for \n",
    "       row in var_arr] \n",
    "    var2_y = [row[2] for row in var_arr] \n",
    "    \n",
    "    \n",
    "    plt.figure(figsize=(20, 20))\n",
    "    plt.title('Compare', size=30)\n",
    "    plt.plot(var1_x,var1_y, color='red')\n",
    "    plt.plot(var2_x,var2_y, color='blue')\n",
    "    \n",
    "    plt.tight_layout() # 레이아웃의 간격을 잡아주는 함수"
   ]
  },
  {
   "cell_type": "code",
   "execution_count": null,
   "metadata": {},
   "outputs": [],
   "source": []
  },
  {
   "cell_type": "code",
   "execution_count": null,
   "metadata": {},
   "outputs": [],
   "source": []
  },
  {
   "cell_type": "code",
   "execution_count": null,
   "metadata": {},
   "outputs": [],
   "source": []
  },
  {
   "cell_type": "code",
   "execution_count": null,
   "metadata": {},
   "outputs": [],
   "source": []
  },
  {
   "cell_type": "code",
   "execution_count": null,
   "metadata": {},
   "outputs": [],
   "source": []
  }
 ],
 "metadata": {
  "kernelspec": {
   "display_name": "Python 3",
   "language": "python",
   "name": "python3"
  },
  "language_info": {
   "codemirror_mode": {
    "name": "ipython",
    "version": 3
   },
   "file_extension": ".py",
   "mimetype": "text/x-python",
   "name": "python",
   "nbconvert_exporter": "python",
   "pygments_lexer": "ipython3",
   "version": "3.7.6"
  }
 },
 "nbformat": 4,
 "nbformat_minor": 4
}
